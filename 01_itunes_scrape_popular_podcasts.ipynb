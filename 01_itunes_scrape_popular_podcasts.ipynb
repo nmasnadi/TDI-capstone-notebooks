{
 "cells": [
  {
   "cell_type": "markdown",
   "metadata": {},
   "source": [
    "# Popular podcasts on iTunes\n",
    "In this notebook, I collect the iTunes id of all the podcasts that are listed in the popular podcasts page on the iTunes website. There are 19 main categories and 102 sub-categories. In total, I find about 22000 unique podcasts and save them in a pandas dataframe."
   ]
  },
  {
   "cell_type": "code",
   "execution_count": 1,
   "metadata": {},
   "outputs": [],
   "source": [
    "import pandas as pd\n",
    "import requests\n",
    "import json\n",
    "from bs4 import BeautifulSoup\n",
    "import numpy as np\n",
    "import subprocess\n",
    "from dateutil.parser import parse\n",
    "import datetime\n",
    "import re"
   ]
  },
  {
   "cell_type": "code",
   "execution_count": 2,
   "metadata": {},
   "outputs": [],
   "source": [
    "# get the url for each popular category\n",
    "re = requests.get(url = 'https://podcasts.apple.com/us/genre/podcasts-arts/id1301')\n",
    "soup = BeautifulSoup(re.text)\n",
    "classes = soup.find_all('ul', attrs= {\"class\":\"list column first\"})[0].\\\n",
    "    find_all('a', attrs = {\"class\":\"top-level-genre\"})\n",
    "genre_links = {pod_class.text:pod_class['href'] for pod_class in classes}"
   ]
  },
  {
   "cell_type": "code",
   "execution_count": 3,
   "metadata": {},
   "outputs": [
    {
     "data": {
      "text/plain": [
       "{'Arts': 'https://podcasts.apple.com/us/genre/podcasts-arts/id1301',\n",
       " 'Business': 'https://podcasts.apple.com/us/genre/podcasts-business/id1321',\n",
       " 'Comedy': 'https://podcasts.apple.com/us/genre/podcasts-comedy/id1303',\n",
       " 'Education': 'https://podcasts.apple.com/us/genre/podcasts-education/id1304',\n",
       " 'Fiction': 'https://podcasts.apple.com/us/genre/podcasts-fiction/id1483',\n",
       " 'Government': 'https://podcasts.apple.com/us/genre/podcasts-government/id1511',\n",
       " 'Health & Fitness': 'https://podcasts.apple.com/us/genre/podcasts-health-fitness/id1512',\n",
       " 'History': 'https://podcasts.apple.com/us/genre/podcasts-history/id1487',\n",
       " 'Kids & Family': 'https://podcasts.apple.com/us/genre/podcasts-kids-family/id1305',\n",
       " 'Leisure': 'https://podcasts.apple.com/us/genre/podcasts-leisure/id1502',\n",
       " 'Music': 'https://podcasts.apple.com/us/genre/podcasts-music/id1310',\n",
       " 'News': 'https://podcasts.apple.com/us/genre/podcasts-news/id1489',\n",
       " 'Religion & Spirituality': 'https://podcasts.apple.com/us/genre/podcasts-religion-spirituality/id1314',\n",
       " 'Science': 'https://podcasts.apple.com/us/genre/podcasts-science/id1533',\n",
       " 'Society & Culture': 'https://podcasts.apple.com/us/genre/podcasts-society-culture/id1324',\n",
       " 'Sports': 'https://podcasts.apple.com/us/genre/podcasts-sports/id1545',\n",
       " 'TV & Film': 'https://podcasts.apple.com/us/genre/podcasts-tv-film/id1309',\n",
       " 'Technology': 'https://podcasts.apple.com/us/genre/podcasts-technology/id1318',\n",
       " 'True Crime': 'https://podcasts.apple.com/us/genre/podcasts-true-crime/id1488'}"
      ]
     },
     "execution_count": 3,
     "metadata": {},
     "output_type": "execute_result"
    }
   ],
   "source": [
    "genre_links"
   ]
  },
  {
   "cell_type": "code",
   "execution_count": 30,
   "metadata": {},
   "outputs": [],
   "source": [
    "all_links = dict()\n",
    "for genre, genre_link in genre_links.items():\n",
    "    re = requests.get(genre_link)\n",
    "    soup = BeautifulSoup(re.text)\n",
    "    try:\n",
    "        sub_genres = soup.find_all('ul', attrs= {\"class\":\"top-level-subgenres\"})[0].find_all('a')\n",
    "        subgenre_links = {subs.text:subs['href'] for subs in sub_genres}\n",
    "    except:\n",
    "        subgenre_links = {genre:genre_link}\n",
    "    all_links[genre] = subgenre_links"
   ]
  },
  {
   "cell_type": "code",
   "execution_count": 58,
   "metadata": {},
   "outputs": [
    {
     "name": "stdout",
     "output_type": "stream",
     "text": [
      "Arts, Business, Comedy, Education, Fiction, Government, Health & Fitness, History, Kids & Family, Leisure, Music, News, Religion & Spirituality, Science, Society & Culture, Sports, TV & Film, Technology, True Crime, "
     ]
    }
   ],
   "source": [
    "itunes_ids = []\n",
    "genres = []\n",
    "subgenres = []\n",
    "\n",
    "for genre in all_links.keys():\n",
    "    print(genre, end = ', ')\n",
    "    url = genre_links[genre]\n",
    "    re = requests.get(url)\n",
    "    soup = BeautifulSoup(re.text)\n",
    "    pods = soup.find_all('div', attrs= {\"class\":\"grid3-column\"})[0].find_all(\"a\")\n",
    "    for pod in pods:\n",
    "        s = pod['href'][::-1]\n",
    "        idx = s.find(\"di\")\n",
    "        itunes_ids.append(int(s[:idx][::-1]))\n",
    "        genres.append(genre)   \n",
    "        subgenres.append(genre)\n",
    "\n",
    "    for subgenre, url in all_links[genre].items():\n",
    "        re = requests.get(url)\n",
    "        soup = BeautifulSoup(re.text)\n",
    "        pods = soup.find_all('div', attrs= {\"class\":\"grid3-column\"})[0].find_all(\"a\")\n",
    "        for pod in pods:\n",
    "            s = pod['href'][::-1]\n",
    "            idx = s.find(\"di\")\n",
    "            itunes_ids.append(int(s[:idx][::-1]))\n",
    "            genres.append(genre)   \n",
    "            subgenres.append(subgenre)"
   ]
  },
  {
   "cell_type": "code",
   "execution_count": 59,
   "metadata": {},
   "outputs": [],
   "source": [
    "df = pd.DataFrame(columns = [\"itunes_id\", \"genre\", \"subgenre\"])\n",
    "df[\"itunes_id\"] = itunes_ids\n",
    "df[\"genre\"] = genres\n",
    "df[\"subgenre\"] = subgenres"
   ]
  },
  {
   "cell_type": "code",
   "execution_count": 63,
   "metadata": {},
   "outputs": [
    {
     "data": {
      "text/html": [
       "<div>\n",
       "<style scoped>\n",
       "    .dataframe tbody tr th:only-of-type {\n",
       "        vertical-align: middle;\n",
       "    }\n",
       "\n",
       "    .dataframe tbody tr th {\n",
       "        vertical-align: top;\n",
       "    }\n",
       "\n",
       "    .dataframe thead th {\n",
       "        text-align: right;\n",
       "    }\n",
       "</style>\n",
       "<table border=\"1\" class=\"dataframe\">\n",
       "  <thead>\n",
       "    <tr style=\"text-align: right;\">\n",
       "      <th></th>\n",
       "      <th>itunes_id</th>\n",
       "      <th>genre</th>\n",
       "      <th>subgenre</th>\n",
       "    </tr>\n",
       "  </thead>\n",
       "  <tbody>\n",
       "    <tr>\n",
       "      <th>0</th>\n",
       "      <td>1310458364</td>\n",
       "      <td>Arts</td>\n",
       "      <td>Arts</td>\n",
       "    </tr>\n",
       "    <tr>\n",
       "      <th>1</th>\n",
       "      <td>76069540</td>\n",
       "      <td>Arts</td>\n",
       "      <td>Arts</td>\n",
       "    </tr>\n",
       "    <tr>\n",
       "      <th>2</th>\n",
       "      <td>1455169228</td>\n",
       "      <td>Arts</td>\n",
       "      <td>Arts</td>\n",
       "    </tr>\n",
       "    <tr>\n",
       "      <th>3</th>\n",
       "      <td>1113585468</td>\n",
       "      <td>Arts</td>\n",
       "      <td>Arts</td>\n",
       "    </tr>\n",
       "    <tr>\n",
       "      <th>4</th>\n",
       "      <td>1133320064</td>\n",
       "      <td>Arts</td>\n",
       "      <td>Arts</td>\n",
       "    </tr>\n",
       "    <tr>\n",
       "      <th>...</th>\n",
       "      <td>...</td>\n",
       "      <td>...</td>\n",
       "      <td>...</td>\n",
       "    </tr>\n",
       "    <tr>\n",
       "      <th>22085</th>\n",
       "      <td>998568017</td>\n",
       "      <td>True Crime</td>\n",
       "      <td>True Crime</td>\n",
       "    </tr>\n",
       "    <tr>\n",
       "      <th>22086</th>\n",
       "      <td>1244309070</td>\n",
       "      <td>True Crime</td>\n",
       "      <td>True Crime</td>\n",
       "    </tr>\n",
       "    <tr>\n",
       "      <th>22087</th>\n",
       "      <td>1480263708</td>\n",
       "      <td>True Crime</td>\n",
       "      <td>True Crime</td>\n",
       "    </tr>\n",
       "    <tr>\n",
       "      <th>22088</th>\n",
       "      <td>1145089790</td>\n",
       "      <td>True Crime</td>\n",
       "      <td>True Crime</td>\n",
       "    </tr>\n",
       "    <tr>\n",
       "      <th>22089</th>\n",
       "      <td>1055044256</td>\n",
       "      <td>True Crime</td>\n",
       "      <td>True Crime</td>\n",
       "    </tr>\n",
       "  </tbody>\n",
       "</table>\n",
       "<p>22090 rows × 3 columns</p>\n",
       "</div>"
      ],
      "text/plain": [
       "        itunes_id       genre    subgenre\n",
       "0      1310458364        Arts        Arts\n",
       "1        76069540        Arts        Arts\n",
       "2      1455169228        Arts        Arts\n",
       "3      1113585468        Arts        Arts\n",
       "4      1133320064        Arts        Arts\n",
       "...           ...         ...         ...\n",
       "22085   998568017  True Crime  True Crime\n",
       "22086  1244309070  True Crime  True Crime\n",
       "22087  1480263708  True Crime  True Crime\n",
       "22088  1145089790  True Crime  True Crime\n",
       "22089  1055044256  True Crime  True Crime\n",
       "\n",
       "[22090 rows x 3 columns]"
      ]
     },
     "execution_count": 63,
     "metadata": {},
     "output_type": "execute_result"
    }
   ],
   "source": [
    "popular_pods_list = df.loc[df[\"itunes_id\"].drop_duplicates(keep = \"last\").index].reset_index(drop = True)\n",
    "popular_pods_list"
   ]
  },
  {
   "cell_type": "code",
   "execution_count": 64,
   "metadata": {},
   "outputs": [],
   "source": [
    "popular_pods_list.to_pickle(\"popular_pods_list.pkl\")"
   ]
  }
 ],
 "metadata": {
  "kernelspec": {
   "display_name": "Python 3",
   "language": "python",
   "name": "python3"
  },
  "language_info": {
   "codemirror_mode": {
    "name": "ipython",
    "version": 3
   },
   "file_extension": ".py",
   "mimetype": "text/x-python",
   "name": "python",
   "nbconvert_exporter": "python",
   "pygments_lexer": "ipython3",
   "version": "3.7.6"
  }
 },
 "nbformat": 4,
 "nbformat_minor": 4
}
